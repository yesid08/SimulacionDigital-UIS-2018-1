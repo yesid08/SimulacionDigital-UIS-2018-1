{
 "cells": [
  {
   "cell_type": "code",
   "execution_count": 93,
   "metadata": {},
   "outputs": [],
   "source": [
    "#Ejecutar esta celda primero para importar las dependencias en las demás celdas.\n",
    "import pandas as pd\n",
    "import numpy as np\n",
    "import math\n",
    "import random\n",
    "#funcion que permite configurar el maximo de filas en pandas\n",
    "def configurarMaximoDeFilas( X ):\n",
    "    pd.set_option('display.max_rows', X)    \n",
    "#configuramos pandas con 120 filas como mucho.\n",
    "configurarMaximoDeFilas(120)"
   ]
  },
  {
   "cell_type": "markdown",
   "metadata": {},
   "source": [
    "# 1.Historia  \n"
   ]
  },
  {
   "cell_type": "code",
   "execution_count": 94,
   "metadata": {},
   "outputs": [],
   "source": [
    "def Ejemplo(N,B,H):\n",
    "    Y1=0\n",
    "    X1=0\n",
    "    Y2=0\n",
    "    X2=0\n",
    "    T=0\n",
    "    for i in range(1,N):\n",
    "        if( Y1 > (((-H)/B)*X1)+ H):\n",
    "            X1=B-X\n",
    "            Y1=H*Y\n",
    "        if(Y2>(-H/B*X2+H)):\n",
    "            X2=B*np.random.random()\n",
    "            Y2=H*np.random.random()\n",
    "        DX=abs(X1-X2)\n",
    "        DY=abs(Y1-Y2)\n",
    "        T=T+DX+DY\n",
    "    D=T/N\n",
    "    print ('DISTANCIA =', D)\n",
    "        \n",
    "    "
   ]
  },
  {
   "cell_type": "code",
   "execution_count": 95,
   "metadata": {},
   "outputs": [
    {
     "name": "stdout",
     "output_type": "stream",
     "text": [
      "Base =  2\n",
      "Altura =  2\n",
      "DISTANCIA = 0.0\n"
     ]
    }
   ],
   "source": [
    "N=100\n",
    "B = int(input(\"Base =  \"))\n",
    "H = int(input(\"Altura =  \"))\n",
    "Ejemplo(N,B,H)"
   ]
  },
  {
   "cell_type": "markdown",
   "metadata": {},
   "source": [
    "## 1.1 Método de Montecarlo  "
   ]
  },
  {
   "cell_type": "code",
   "execution_count": 96,
   "metadata": {},
   "outputs": [],
   "source": [
    "def MetodoMontecarlo(N,B,H):\n",
    "    FAV=0\n",
    "    PI=0\n",
    "    X1=0\n",
    "    Y1=0\n",
    "    for i in range(1,N):\n",
    "        if(X1^2+Y1^2)<1:\n",
    "            FAV=FAV+1\n",
    "    PI=FAV/N*4\n",
    "    print ('PI =', PI)"
   ]
  },
  {
   "cell_type": "code",
   "execution_count": 97,
   "metadata": {},
   "outputs": [
    {
     "name": "stdout",
     "output_type": "stream",
     "text": [
      "PI = 3.996\n"
     ]
    }
   ],
   "source": [
    "N=1000\n",
    "X1=np.random.random()\n",
    "X2=np.random.random()\n",
    "MetodoMontecarlo(N,B,H)"
   ]
  },
  {
   "cell_type": "markdown",
   "metadata": {},
   "source": [
    "## 1.2 Método de Modes(Modelo Determinístico de Simulación) "
   ]
  },
  {
   "cell_type": "code",
   "execution_count": 98,
   "metadata": {},
   "outputs": [
    {
     "name": "stdout",
     "output_type": "stream",
     "text": [
      "AREA = 8.928\n"
     ]
    }
   ],
   "source": [
    "N=1000\n",
    "F=0\n",
    "for i in range(0, N):\n",
    "    X = np.random.rand()*6\n",
    "    Y = np.random.rand()*4\n",
    "    if((4*(math.exp(-2*X)) <= Y) and ( Y >=(X*(X-2)))):\n",
    "        F=F+1     \n",
    "AREA=(F/N)*24\n",
    "print ('AREA =', AREA)\n",
    "    "
   ]
  },
  {
   "cell_type": "code",
   "execution_count": 99,
   "metadata": {},
   "outputs": [],
   "source": [
    "def MetodoMontecarlo3(N,G,L,X,C,S):\n",
    "    for i in range(1,N):\n",
    "        while(True):\n",
    "            T=L+X+C\n",
    "            R=(np.random.random()*T)+1\n",
    "            if(R<=L):\n",
    "                print ('LETRAS')\n",
    "            if(R<=(L+X)):\n",
    "                print ('EQUIS')\n",
    "            print ('COMODINES')\n",
    "            S=S+1\n",
    "            C=C-1\n",
    "            if(X==3):\n",
    "                T=L+X+C\n",
    "                break;    \n",
    "            S=S-1\n",
    "            X=X+1\n",
    "            L=L-1\n",
    "            if(L==0):\n",
    "                G=G+1\n",
    "                break;\n",
    "            if(S>0):\n",
    "                break;\n",
    "            S=S-1\n",
    "            X=X-1\n",
    "            if(X==0):\n",
    "                break;\n",
    "    print ('Probabilidad',G/N)             \n",
    "            \n",
    "                \n",
    "            \n",
    "            \n",
    "            \n",
    "            \n",
    "            \n",
    "        "
   ]
  },
  {
   "cell_type": "code",
   "execution_count": 100,
   "metadata": {},
   "outputs": [
    {
     "name": "stdout",
     "output_type": "stream",
     "text": [
      "EQUIS\n",
      "COMODINES\n",
      "LETRAS\n",
      "EQUIS\n",
      "COMODINES\n",
      "LETRAS\n",
      "EQUIS\n",
      "COMODINES\n",
      "EQUIS\n",
      "COMODINES\n",
      "LETRAS\n",
      "EQUIS\n",
      "COMODINES\n",
      "EQUIS\n",
      "COMODINES\n",
      "LETRAS\n",
      "EQUIS\n",
      "COMODINES\n",
      "LETRAS\n",
      "EQUIS\n",
      "COMODINES\n",
      "LETRAS\n",
      "EQUIS\n",
      "COMODINES\n",
      "Probabilidad 0.0\n"
     ]
    }
   ],
   "source": [
    "N=10\n",
    "G=0\n",
    "L=7\n",
    "X=3\n",
    "C=2\n",
    "S=0\n",
    "MetodoMontecarlo3(N,G,L,X,C,S)"
   ]
  },
  {
   "cell_type": "markdown",
   "metadata": {},
   "source": [
    "# 1.4 Etapas para realizar un estudio de simulación"
   ]
  },
  {
   "cell_type": "markdown",
   "metadata": {},
   "source": [
    "## 1.4.2 Determinación del modelo matemático"
   ]
  },
  {
   "cell_type": "markdown",
   "metadata": {},
   "source": [
    "$ x'_{1}=x_{2}\\\\ \n",
    "x'_{2}=(\\frac{-1}{LC})*X+(\\frac{1}{LC})*\\mu\\\\ \n",
    "Y=x_{1}(ec. salida) $"
   ]
  },
  {
   "cell_type": "code",
   "execution_count": null,
   "metadata": {},
   "outputs": [],
   "source": []
  },
  {
   "cell_type": "markdown",
   "metadata": {},
   "source": [
    "# 1.8 Factores en el desarrollo del modelo de simulación"
   ]
  },
  {
   "cell_type": "markdown",
   "metadata": {},
   "source": [
    "## Generación de variables aleatorias"
   ]
  },
  {
   "cell_type": "markdown",
   "metadata": {},
   "source": [
    "$N_{i+1}=A*N_{I}$"
   ]
  },
  {
   "cell_type": "code",
   "execution_count": null,
   "metadata": {},
   "outputs": [],
   "source": []
  },
  {
   "cell_type": "markdown",
   "metadata": {},
   "source": [
    "# codigo página 33"
   ]
  },
  {
   "cell_type": "code",
   "execution_count": 101,
   "metadata": {},
   "outputs": [
    {
     "name": "stdout",
     "output_type": "stream",
     "text": [
      "Valor de e estimado = 6.593999999999999\n"
     ]
    }
   ],
   "source": [
    "N=1000\n",
    "C=0\n",
    "for i in range (1,N):\n",
    "    X=np.random.rand()\n",
    "    if ((X<0.5) and (X>(1/30))):\n",
    "         C=C+1 \n",
    "print ('Valor de e estimado =', (14*(C/N)))    "
   ]
  },
  {
   "cell_type": "code",
   "execution_count": null,
   "metadata": {},
   "outputs": [],
   "source": []
  },
  {
   "cell_type": "code",
   "execution_count": 102,
   "metadata": {},
   "outputs": [],
   "source": [
    "N=100000\n",
    "T=1/N\n"
   ]
  },
  {
   "cell_type": "markdown",
   "metadata": {},
   "source": [
    "# codigo página 27"
   ]
  },
  {
   "cell_type": "code",
   "execution_count": 103,
   "metadata": {},
   "outputs": [],
   "source": [
    "def Ejemplo66(paso,area,sigX):\n",
    "    while(area<1):\n",
    "        X=sigX\n",
    "        sigX=sigX+paso\n",
    "        area=area+((sigX-X))*(1/sigX)\n",
    "    print ('El valor de Euler es:', sigX)  "
   ]
  },
  {
   "cell_type": "code",
   "execution_count": 104,
   "metadata": {},
   "outputs": [
    {
     "name": "stdout",
     "output_type": "stream",
     "text": [
      "El valor de Euler es: 2.7199999999998106\n"
     ]
    }
   ],
   "source": [
    "paso= 0.001\n",
    "area=0\n",
    "sigX=1\n",
    "Ejemplo66(paso,area,sigX)"
   ]
  },
  {
   "cell_type": "markdown",
   "metadata": {},
   "source": [
    "# nO ESTÁ TERMINADO AUN EL DE ABAJO"
   ]
  },
  {
   "cell_type": "code",
   "execution_count": 105,
   "metadata": {},
   "outputs": [],
   "source": [
    "def Ejemplo77(N,y):\n",
    "    delta=1/N\n",
    "    for i in range(0,N-1):\n",
    "        y [i+1]=(1+delta)*y[i]"
   ]
  },
  {
   "cell_type": "code",
   "execution_count": 106,
   "metadata": {},
   "outputs": [
    {
     "ename": "IndexError",
     "evalue": "list assignment index out of range",
     "output_type": "error",
     "traceback": [
      "\u001b[1;31m---------------------------------------------------------------------------\u001b[0m",
      "\u001b[1;31mIndexError\u001b[0m                                Traceback (most recent call last)",
      "\u001b[1;32m<ipython-input-106-36e05a7be5bd>\u001b[0m in \u001b[0;36m<module>\u001b[1;34m()\u001b[0m\n\u001b[0;32m      2\u001b[0m \u001b[0my\u001b[0m\u001b[1;33m=\u001b[0m\u001b[1;33m[\u001b[0m\u001b[0mN\u001b[0m\u001b[1;33m]\u001b[0m\u001b[1;33m\u001b[0m\u001b[0m\n\u001b[0;32m      3\u001b[0m \u001b[0my\u001b[0m\u001b[1;33m.\u001b[0m\u001b[0mappend\u001b[0m\u001b[1;33m(\u001b[0m\u001b[1;36m0\u001b[0m\u001b[1;33m)\u001b[0m\u001b[1;33m\u001b[0m\u001b[0m\n\u001b[1;32m----> 4\u001b[1;33m \u001b[0mEjemplo77\u001b[0m\u001b[1;33m(\u001b[0m\u001b[0mN\u001b[0m\u001b[1;33m,\u001b[0m\u001b[0my\u001b[0m\u001b[1;33m)\u001b[0m\u001b[1;33m\u001b[0m\u001b[0m\n\u001b[0m",
      "\u001b[1;32m<ipython-input-105-da69db6e3a4e>\u001b[0m in \u001b[0;36mEjemplo77\u001b[1;34m(N, y)\u001b[0m\n\u001b[0;32m      2\u001b[0m     \u001b[0mdelta\u001b[0m\u001b[1;33m=\u001b[0m\u001b[1;36m1\u001b[0m\u001b[1;33m/\u001b[0m\u001b[0mN\u001b[0m\u001b[1;33m\u001b[0m\u001b[0m\n\u001b[0;32m      3\u001b[0m     \u001b[1;32mfor\u001b[0m \u001b[0mi\u001b[0m \u001b[1;32min\u001b[0m \u001b[0mrange\u001b[0m\u001b[1;33m(\u001b[0m\u001b[1;36m0\u001b[0m\u001b[1;33m,\u001b[0m\u001b[0mN\u001b[0m\u001b[1;33m-\u001b[0m\u001b[1;36m1\u001b[0m\u001b[1;33m)\u001b[0m\u001b[1;33m:\u001b[0m\u001b[1;33m\u001b[0m\u001b[0m\n\u001b[1;32m----> 4\u001b[1;33m         \u001b[0my\u001b[0m \u001b[1;33m[\u001b[0m\u001b[0mi\u001b[0m\u001b[1;33m+\u001b[0m\u001b[1;36m1\u001b[0m\u001b[1;33m]\u001b[0m\u001b[1;33m=\u001b[0m\u001b[1;33m(\u001b[0m\u001b[1;36m1\u001b[0m\u001b[1;33m+\u001b[0m\u001b[0mdelta\u001b[0m\u001b[1;33m)\u001b[0m\u001b[1;33m*\u001b[0m\u001b[0my\u001b[0m\u001b[1;33m[\u001b[0m\u001b[0mi\u001b[0m\u001b[1;33m]\u001b[0m\u001b[1;33m\u001b[0m\u001b[0m\n\u001b[0m",
      "\u001b[1;31mIndexError\u001b[0m: list assignment index out of range"
     ]
    }
   ],
   "source": [
    "N=1000\n",
    "y=[N]\n",
    "y.append(0)\n",
    "Ejemplo77(N,y)"
   ]
  },
  {
   "cell_type": "code",
   "execution_count": null,
   "metadata": {},
   "outputs": [],
   "source": []
  },
  {
   "cell_type": "code",
   "execution_count": null,
   "metadata": {},
   "outputs": [],
   "source": []
  }
 ],
 "metadata": {
  "kernelspec": {
   "display_name": "Python 3",
   "language": "python",
   "name": "python3"
  },
  "language_info": {
   "codemirror_mode": {
    "name": "ipython",
    "version": 3
   },
   "file_extension": ".py",
   "mimetype": "text/x-python",
   "name": "python",
   "nbconvert_exporter": "python",
   "pygments_lexer": "ipython3",
   "version": "3.6.4"
  }
 },
 "nbformat": 4,
 "nbformat_minor": 2
}
