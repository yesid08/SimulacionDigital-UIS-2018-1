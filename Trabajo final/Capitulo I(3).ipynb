{
 "cells": [
  {
   "cell_type": "code",
   "execution_count": 1,
   "metadata": {},
   "outputs": [],
   "source": [
    "#Ejecutar esta celda primero para importar las dependencias en las demás celdas.\n",
    "import pandas as pd\n",
    "import numpy as np\n",
    "import math\n",
    "import random\n",
    "#funcion que permite configurar el maximo de filas en pandas\n",
    "def configurarMaximoDeFilas( X ):\n",
    "    pd.set_option('display.max_rows', X)    \n",
    "#configuramos pandas con 120 filas como mucho.\n",
    "configurarMaximoDeFilas(120)"
   ]
  },
  {
   "cell_type": "markdown",
   "metadata": {},
   "source": [
    "# 1.Historia  \n"
   ]
  },
  {
   "cell_type": "markdown",
   "metadata": {},
   "source": [
    "## 1.1 Método de Montecarlo  "
   ]
  },
  {
   "cell_type": "code",
   "execution_count": 10,
   "metadata": {},
   "outputs": [],
   "source": [
    "def MetodoMontecarlo(N,X1,X2):\n",
    "    FAV=0\n",
    "    PI=0\n",
    "    X1=0\n",
    "    Y1=0\n",
    "    for i in range(1,N):\n",
    "        if(X1^2+Y1^2)<1: #Verificamos si el punto está dentro del sector circular y lo consideramos favorable\n",
    "        \n",
    "            FAV=FAV+1\n",
    "    #El área es proporcional al número de puntos Favorables\n",
    "    PI=FAV/N*4 #Generalizamos para todo el círculo el valor de PI\n",
    "    print ('PI =', PI)"
   ]
  },
  {
   "cell_type": "code",
   "execution_count": 11,
   "metadata": {},
   "outputs": [
    {
     "name": "stdout",
     "output_type": "stream",
     "text": [
      "PI = 3.996\n"
     ]
    }
   ],
   "source": [
    "N=1000 #Haremos la prueba con mil puntos\n",
    "MetodoMontecarlo(N,X1,X2)"
   ]
  },
  {
   "cell_type": "markdown",
   "metadata": {},
   "source": [
    "## 1.2 Método de Modes(Modelo Determinístico de Simulación) "
   ]
  },
  {
   "cell_type": "code",
   "execution_count": 28,
   "metadata": {},
   "outputs": [
    {
     "name": "stdout",
     "output_type": "stream",
     "text": [
      "AREA = 8.328\n"
     ]
    }
   ],
   "source": [
    "N=1000\n",
    "F=0\n",
    "\n",
    "for i in range(0, N):\n",
    "    X = random.uniform(0, 6)\n",
    "    Y = random.uniform(0, 4)\n",
    "    if((4*(math.exp(-2*X)) <= Y) and ( Y >=(X*(X-2)))):\n",
    "        F=F+1     \n",
    "AREA=(F/N)*24\n",
    "print ('AREA =', AREA)\n",
    "    "
   ]
  },
  {
   "cell_type": "code",
   "execution_count": 99,
   "metadata": {},
   "outputs": [],
   "source": [
    "def MetodoMontecarlo3(N,G,L,X,C,S):\n",
    "    for i in range(1,N):\n",
    "        while(True):\n",
    "            T=L+X+C\n",
    "            R=(np.random.random()*T)+1\n",
    "            if(R<=L):\n",
    "                print ('LETRAS')\n",
    "            if(R<=(L+X)):\n",
    "                print ('EQUIS')\n",
    "            print ('COMODINES')\n",
    "            S=S+1\n",
    "            C=C-1\n",
    "            if(X==3):\n",
    "                T=L+X+C\n",
    "                break;    \n",
    "            S=S-1\n",
    "            X=X+1\n",
    "            L=L-1\n",
    "            if(L==0):\n",
    "                G=G+1\n",
    "                break;\n",
    "            if(S>0):\n",
    "                break;\n",
    "            S=S-1\n",
    "            X=X-1\n",
    "            if(X==0):\n",
    "                break;\n",
    "    print ('Probabilidad',G/N)             \n",
    "            \n",
    "                \n",
    "            \n",
    "            \n",
    "            \n",
    "            \n",
    "            \n",
    "        "
   ]
  },
  {
   "cell_type": "code",
   "execution_count": 100,
   "metadata": {},
   "outputs": [
    {
     "name": "stdout",
     "output_type": "stream",
     "text": [
      "EQUIS\n",
      "COMODINES\n",
      "LETRAS\n",
      "EQUIS\n",
      "COMODINES\n",
      "LETRAS\n",
      "EQUIS\n",
      "COMODINES\n",
      "EQUIS\n",
      "COMODINES\n",
      "LETRAS\n",
      "EQUIS\n",
      "COMODINES\n",
      "EQUIS\n",
      "COMODINES\n",
      "LETRAS\n",
      "EQUIS\n",
      "COMODINES\n",
      "LETRAS\n",
      "EQUIS\n",
      "COMODINES\n",
      "LETRAS\n",
      "EQUIS\n",
      "COMODINES\n",
      "Probabilidad 0.0\n"
     ]
    }
   ],
   "source": [
    "N=10\n",
    "G=0\n",
    "L=7\n",
    "X=3\n",
    "C=2\n",
    "S=0\n",
    "MetodoMontecarlo3(N,G,L,X,C,S)"
   ]
  },
  {
   "cell_type": "markdown",
   "metadata": {},
   "source": [
    "# 1.5 Primeros trabajos"
   ]
  },
  {
   "cell_type": "markdown",
   "metadata": {},
   "source": [
    "## Ejercicio"
   ]
  },
  {
   "cell_type": "code",
   "execution_count": 4,
   "metadata": {},
   "outputs": [],
   "source": [
    "def Ejemplo66(paso,area,sigX):\n",
    "    while(area<1):\n",
    "        X=sigX\n",
    "        sigX=sigX+paso\n",
    "        area=area+((sigX-X))*(1/sigX)\n",
    "    print ('El valor de Euler es:', sigX) "
   ]
  },
  {
   "cell_type": "code",
   "execution_count": 5,
   "metadata": {},
   "outputs": [
    {
     "name": "stdout",
     "output_type": "stream",
     "text": [
      "El valor de Euler es: 2.7199999999998106\n"
     ]
    }
   ],
   "source": [
    "paso= 0.001\n",
    "area=0\n",
    "sigX=1\n",
    "Ejemplo66(paso,area,sigX)"
   ]
  },
  {
   "cell_type": "code",
   "execution_count": 54,
   "metadata": {},
   "outputs": [],
   "source": [
    "def AgujaBaldosa(D,E,X):\n",
    "    for N in range(20,60):\n",
    "        F=0\n",
    "        for K in range(1,E):\n",
    "            for i in range(1,N):\n",
    "                X.append((D-random.uniform(0, 123456)%(D-1)))\n",
    "                for j in range(1,i-1):\n",
    "                    a=X.append(i)\n",
    "                    b=X.append(j)\n",
    "                    \n",
    "                    if(a==b):\n",
    "                        F=F+1\n",
    "        \n",
    "            \n",
    "        print(\"Probabilidad=\",N)    "
   ]
  },
  {
   "cell_type": "code",
   "execution_count": null,
   "metadata": {},
   "outputs": [
    {
     "name": "stdout",
     "output_type": "stream",
     "text": [
      "Probabilidad= 20\n",
      "Probabilidad= 21\n",
      "Probabilidad= 22\n",
      "Probabilidad= 23\n",
      "Probabilidad= 24\n",
      "Probabilidad= 25\n",
      "Probabilidad= 26\n",
      "Probabilidad= 27\n",
      "Probabilidad= 28\n",
      "Probabilidad= 29\n",
      "Probabilidad= 30\n",
      "Probabilidad= 31\n",
      "Probabilidad= 32\n"
     ]
    }
   ],
   "source": [
    "D=365\n",
    "E=32000\n",
    "X=[]\n",
    "AgujaBaldosa(D,E,X)"
   ]
  },
  {
   "cell_type": "markdown",
   "metadata": {},
   "source": [
    "# 1.8 Factores en el desarrollo del modelo de simulación"
   ]
  },
  {
   "cell_type": "markdown",
   "metadata": {},
   "source": [
    "## Generación de variables aleatorias"
   ]
  },
  {
   "cell_type": "markdown",
   "metadata": {},
   "source": [
    "$N_{i+1}=A*N_{I}$"
   ]
  },
  {
   "cell_type": "code",
   "execution_count": null,
   "metadata": {},
   "outputs": [],
   "source": []
  },
  {
   "cell_type": "markdown",
   "metadata": {},
   "source": [
    "# codigo página 33"
   ]
  },
  {
   "cell_type": "code",
   "execution_count": 101,
   "metadata": {},
   "outputs": [
    {
     "name": "stdout",
     "output_type": "stream",
     "text": [
      "Valor de e estimado = 6.593999999999999\n"
     ]
    }
   ],
   "source": [
    "N=1000\n",
    "C=0\n",
    "for i in range (1,N):\n",
    "    X=np.random.rand()\n",
    "    if ((X<0.5) and (X>(1/30))):\n",
    "         C=C+1 \n",
    "print ('Valor de e estimado =', (14*(C/N)))    "
   ]
  },
  {
   "cell_type": "code",
   "execution_count": null,
   "metadata": {},
   "outputs": [],
   "source": []
  },
  {
   "cell_type": "code",
   "execution_count": 102,
   "metadata": {},
   "outputs": [],
   "source": [
    "N=100000\n",
    "T=1/N\n"
   ]
  },
  {
   "cell_type": "markdown",
   "metadata": {},
   "source": [
    "# codigo página 27"
   ]
  },
  {
   "cell_type": "code",
   "execution_count": 103,
   "metadata": {},
   "outputs": [],
   "source": [
    " "
   ]
  },
  {
   "cell_type": "code",
   "execution_count": 104,
   "metadata": {},
   "outputs": [
    {
     "name": "stdout",
     "output_type": "stream",
     "text": [
      "El valor de Euler es: 2.7199999999998106\n"
     ]
    }
   ],
   "source": []
  },
  {
   "cell_type": "markdown",
   "metadata": {},
   "source": [
    "# nO ESTÁ TERMINADO AUN EL DE ABAJO"
   ]
  },
  {
   "cell_type": "code",
   "execution_count": 105,
   "metadata": {},
   "outputs": [],
   "source": [
    "def Ejemplo77(N,y):\n",
    "    delta=1/N\n",
    "    for i in range(0,N-1):\n",
    "        y [i+1]=(1+delta)*y[i]"
   ]
  },
  {
   "cell_type": "code",
   "execution_count": 106,
   "metadata": {},
   "outputs": [
    {
     "ename": "IndexError",
     "evalue": "list assignment index out of range",
     "output_type": "error",
     "traceback": [
      "\u001b[1;31m---------------------------------------------------------------------------\u001b[0m",
      "\u001b[1;31mIndexError\u001b[0m                                Traceback (most recent call last)",
      "\u001b[1;32m<ipython-input-106-36e05a7be5bd>\u001b[0m in \u001b[0;36m<module>\u001b[1;34m()\u001b[0m\n\u001b[0;32m      2\u001b[0m \u001b[0my\u001b[0m\u001b[1;33m=\u001b[0m\u001b[1;33m[\u001b[0m\u001b[0mN\u001b[0m\u001b[1;33m]\u001b[0m\u001b[1;33m\u001b[0m\u001b[0m\n\u001b[0;32m      3\u001b[0m \u001b[0my\u001b[0m\u001b[1;33m.\u001b[0m\u001b[0mappend\u001b[0m\u001b[1;33m(\u001b[0m\u001b[1;36m0\u001b[0m\u001b[1;33m)\u001b[0m\u001b[1;33m\u001b[0m\u001b[0m\n\u001b[1;32m----> 4\u001b[1;33m \u001b[0mEjemplo77\u001b[0m\u001b[1;33m(\u001b[0m\u001b[0mN\u001b[0m\u001b[1;33m,\u001b[0m\u001b[0my\u001b[0m\u001b[1;33m)\u001b[0m\u001b[1;33m\u001b[0m\u001b[0m\n\u001b[0m",
      "\u001b[1;32m<ipython-input-105-da69db6e3a4e>\u001b[0m in \u001b[0;36mEjemplo77\u001b[1;34m(N, y)\u001b[0m\n\u001b[0;32m      2\u001b[0m     \u001b[0mdelta\u001b[0m\u001b[1;33m=\u001b[0m\u001b[1;36m1\u001b[0m\u001b[1;33m/\u001b[0m\u001b[0mN\u001b[0m\u001b[1;33m\u001b[0m\u001b[0m\n\u001b[0;32m      3\u001b[0m     \u001b[1;32mfor\u001b[0m \u001b[0mi\u001b[0m \u001b[1;32min\u001b[0m \u001b[0mrange\u001b[0m\u001b[1;33m(\u001b[0m\u001b[1;36m0\u001b[0m\u001b[1;33m,\u001b[0m\u001b[0mN\u001b[0m\u001b[1;33m-\u001b[0m\u001b[1;36m1\u001b[0m\u001b[1;33m)\u001b[0m\u001b[1;33m:\u001b[0m\u001b[1;33m\u001b[0m\u001b[0m\n\u001b[1;32m----> 4\u001b[1;33m         \u001b[0my\u001b[0m \u001b[1;33m[\u001b[0m\u001b[0mi\u001b[0m\u001b[1;33m+\u001b[0m\u001b[1;36m1\u001b[0m\u001b[1;33m]\u001b[0m\u001b[1;33m=\u001b[0m\u001b[1;33m(\u001b[0m\u001b[1;36m1\u001b[0m\u001b[1;33m+\u001b[0m\u001b[0mdelta\u001b[0m\u001b[1;33m)\u001b[0m\u001b[1;33m*\u001b[0m\u001b[0my\u001b[0m\u001b[1;33m[\u001b[0m\u001b[0mi\u001b[0m\u001b[1;33m]\u001b[0m\u001b[1;33m\u001b[0m\u001b[0m\n\u001b[0m",
      "\u001b[1;31mIndexError\u001b[0m: list assignment index out of range"
     ]
    }
   ],
   "source": [
    "N=1000\n",
    "y=[N]\n",
    "y.append(0)\n",
    "Ejemplo77(N,y)"
   ]
  },
  {
   "cell_type": "code",
   "execution_count": null,
   "metadata": {},
   "outputs": [],
   "source": []
  },
  {
   "cell_type": "code",
   "execution_count": null,
   "metadata": {},
   "outputs": [],
   "source": []
  }
 ],
 "metadata": {
  "kernelspec": {
   "display_name": "Python 3",
   "language": "python",
   "name": "python3"
  },
  "language_info": {
   "codemirror_mode": {
    "name": "ipython",
    "version": 3
   },
   "file_extension": ".py",
   "mimetype": "text/x-python",
   "name": "python",
   "nbconvert_exporter": "python",
   "pygments_lexer": "ipython3",
   "version": "3.6.4"
  }
 },
 "nbformat": 4,
 "nbformat_minor": 2
}
