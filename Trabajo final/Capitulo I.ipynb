{
 "cells": [
  {
   "cell_type": "code",
   "execution_count": 4,
   "metadata": {},
   "outputs": [],
   "source": [
    "#Ejecutar esta celda primero para importar las dependencias en las demás celdas.\n",
    "import pandas as pd\n",
    "import numpy as np\n",
    "import math\n",
    "import random\n",
    "#funcion que permite configurar el maximo de filas en pandas\n",
    "def configurarMaximoDeFilas( X ):\n",
    "    pd.set_option('display.max_rows', X)    \n",
    "#configuramos pandas con 120 filas como mucho.\n",
    "configurarMaximoDeFilas(120)"
   ]
  },
  {
   "cell_type": "markdown",
   "metadata": {},
   "source": [
    "# 1.Historia  \n"
   ]
  },
  {
   "cell_type": "markdown",
   "metadata": {},
   "source": [
    "## 1.1 Método de Montecarlo  "
   ]
  },
  {
   "cell_type": "code",
   "execution_count": 10,
   "metadata": {},
   "outputs": [],
   "source": [
    "def MetodoMontecarlo(N,X1,X2):\n",
    "    FAV=0\n",
    "    PI=0\n",
    "    X1=0\n",
    "    Y1=0\n",
    "    for i in range(1,N):\n",
    "        if(X1^2+Y1^2)<1: #Verificamos si el punto está dentro del sector circular y lo consideramos favorable\n",
    "        \n",
    "            FAV=FAV+1\n",
    "    #El área es proporcional al número de puntos Favorables\n",
    "    PI=FAV/N*4 #Generalizamos para todo el círculo el valor de PI\n",
    "    print ('PI =', PI)"
   ]
  },
  {
   "cell_type": "code",
   "execution_count": 11,
   "metadata": {},
   "outputs": [
    {
     "name": "stdout",
     "output_type": "stream",
     "text": [
      "PI = 3.996\n"
     ]
    }
   ],
   "source": [
    "N=1000 #Haremos la prueba con mil puntos\n",
    "MetodoMontecarlo(N,X1,X2)"
   ]
  },
  {
   "cell_type": "markdown",
   "metadata": {},
   "source": [
    "## 1.2 Método de Modes(Modelo Determinístico de Simulación) "
   ]
  },
  {
   "cell_type": "code",
   "execution_count": 28,
   "metadata": {},
   "outputs": [
    {
     "name": "stdout",
     "output_type": "stream",
     "text": [
      "AREA = 8.328\n"
     ]
    }
   ],
   "source": [
    "N=1000  \n",
    "F=0\n",
    "\n",
    "for i in range(0, N):\n",
    "    X = random.uniform(0, 6) #números aleatorios enteros de 0 a 6\n",
    "    Y = random.uniform(0, 4) #números aleatorios enteros de 0 a 4\n",
    "    if((4*(math.exp(-2*X)) <= Y) and ( Y >=(X*(X-2)))):\n",
    "        F=F+1     \n",
    "AREA=(F/N)*24\n",
    "print ('AREA =', AREA)\n",
    "    "
   ]
  },
  {
   "cell_type": "markdown",
   "metadata": {},
   "source": [
    "# 1.5 Primeros trabajos"
   ]
  },
  {
   "cell_type": "markdown",
   "metadata": {},
   "source": [
    "## Ejercicio\n",
    "Estimar mediante la simulación y la integral de (1/x) el valor de e.\\\\\n",
    "$y(x)=e^{x}$"
   ]
  },
  {
   "cell_type": "code",
   "execution_count": 4,
   "metadata": {},
   "outputs": [],
   "source": [
    "def valordeE(paso,area,sigX):\n",
    "    while(area<1):\n",
    "        X=sigX\n",
    "        sigX=sigX+paso\n",
    "        area=area+((sigX-X))*(1/sigX)\n",
    "    print ('El valor de Euler es:', sigX) "
   ]
  },
  {
   "cell_type": "code",
   "execution_count": 5,
   "metadata": {},
   "outputs": [
    {
     "name": "stdout",
     "output_type": "stream",
     "text": [
      "El valor de Euler es: 2.7199999999998106\n"
     ]
    }
   ],
   "source": [
    "paso= 0.001\n",
    "area=0\n",
    "sigX=1\n",
    "Ejemplo66(paso,area,sigX)"
   ]
  },
  {
   "cell_type": "markdown",
   "metadata": {},
   "source": [
    "# 1.6 Agua-Baldosa"
   ]
  },
  {
   "cell_type": "markdown",
   "metadata": {},
   "source": [
    "Mediante el uso de simulación, hallar la probabilidad de que al lanzar una aguja de longitud L = 12 cm, toque uno de los cuatro bordes de una baldosa de lado D = 20 cm. (Derivacion del problema propuesto por Buffon)"
   ]
  },
  {
   "cell_type": "code",
   "execution_count": 210,
   "metadata": {},
   "outputs": [],
   "source": [
    "def AgujaBaldosa(D,E,X):\n",
    "    for N in range(20,30):\n",
    "        F=0\n",
    "        for K in range(1,E):\n",
    "            for i in range(1,N):\n",
    "                X.insert(i,(D-random.randint(0, 123456))%(D-1))\n",
    "                for j in range(1,i-1): \n",
    "                    if(X[i]==X[j]):\n",
    "                        F=F+1\n",
    "        print(\"Probabilidad=\",N,\"->\",(F/E))    "
   ]
  },
  {
   "cell_type": "code",
   "execution_count": 211,
   "metadata": {},
   "outputs": [
    {
     "ename": "IndexError",
     "evalue": "list index out of range",
     "output_type": "error",
     "traceback": [
      "\u001b[1;31m---------------------------------------------------------------------------\u001b[0m",
      "\u001b[1;31mIndexError\u001b[0m                                Traceback (most recent call last)",
      "\u001b[1;32m<ipython-input-211-ae767c240407>\u001b[0m in \u001b[0;36m<module>\u001b[1;34m()\u001b[0m\n\u001b[0;32m      3\u001b[0m \u001b[0mX\u001b[0m\u001b[1;33m=\u001b[0m\u001b[1;33m[\u001b[0m\u001b[1;33m]\u001b[0m\u001b[1;33m\u001b[0m\u001b[0m\n\u001b[0;32m      4\u001b[0m \u001b[0mJ\u001b[0m\u001b[1;33m=\u001b[0m\u001b[1;33m[\u001b[0m\u001b[1;33m]\u001b[0m\u001b[1;33m\u001b[0m\u001b[0m\n\u001b[1;32m----> 5\u001b[1;33m \u001b[0mAgujaBaldosa\u001b[0m\u001b[1;33m(\u001b[0m\u001b[0mD\u001b[0m\u001b[1;33m,\u001b[0m\u001b[0mE\u001b[0m\u001b[1;33m,\u001b[0m\u001b[0mX\u001b[0m\u001b[1;33m)\u001b[0m\u001b[1;33m\u001b[0m\u001b[0m\n\u001b[0m",
      "\u001b[1;32m<ipython-input-210-f71f3096891b>\u001b[0m in \u001b[0;36mAgujaBaldosa\u001b[1;34m(D, E, X)\u001b[0m\n\u001b[0;32m      6\u001b[0m                 \u001b[0mX\u001b[0m\u001b[1;33m.\u001b[0m\u001b[0minsert\u001b[0m\u001b[1;33m(\u001b[0m\u001b[0mi\u001b[0m\u001b[1;33m,\u001b[0m\u001b[1;33m(\u001b[0m\u001b[0mD\u001b[0m\u001b[1;33m-\u001b[0m\u001b[0mrandom\u001b[0m\u001b[1;33m.\u001b[0m\u001b[0mrandint\u001b[0m\u001b[1;33m(\u001b[0m\u001b[1;36m0\u001b[0m\u001b[1;33m,\u001b[0m \u001b[1;36m123456\u001b[0m\u001b[1;33m)\u001b[0m\u001b[1;33m)\u001b[0m\u001b[1;33m%\u001b[0m\u001b[1;33m(\u001b[0m\u001b[0mD\u001b[0m\u001b[1;33m-\u001b[0m\u001b[1;36m1\u001b[0m\u001b[1;33m)\u001b[0m\u001b[1;33m)\u001b[0m\u001b[1;33m\u001b[0m\u001b[0m\n\u001b[0;32m      7\u001b[0m                 \u001b[1;32mfor\u001b[0m \u001b[0mj\u001b[0m \u001b[1;32min\u001b[0m \u001b[0mrange\u001b[0m\u001b[1;33m(\u001b[0m\u001b[1;36m1\u001b[0m\u001b[1;33m,\u001b[0m\u001b[0mi\u001b[0m\u001b[1;33m-\u001b[0m\u001b[1;36m1\u001b[0m\u001b[1;33m)\u001b[0m\u001b[1;33m:\u001b[0m\u001b[1;33m\u001b[0m\u001b[0m\n\u001b[1;32m----> 8\u001b[1;33m                     \u001b[1;32mif\u001b[0m\u001b[1;33m(\u001b[0m\u001b[0mX\u001b[0m\u001b[1;33m[\u001b[0m\u001b[0mi\u001b[0m\u001b[1;33m]\u001b[0m\u001b[1;33m==\u001b[0m\u001b[0mX\u001b[0m\u001b[1;33m[\u001b[0m\u001b[0mj\u001b[0m\u001b[1;33m]\u001b[0m\u001b[1;33m)\u001b[0m\u001b[1;33m:\u001b[0m\u001b[1;33m\u001b[0m\u001b[0m\n\u001b[0m\u001b[0;32m      9\u001b[0m                         \u001b[0mF\u001b[0m\u001b[1;33m=\u001b[0m\u001b[0mF\u001b[0m\u001b[1;33m+\u001b[0m\u001b[1;36m1\u001b[0m\u001b[1;33m\u001b[0m\u001b[0m\n\u001b[0;32m     10\u001b[0m         \u001b[0mprint\u001b[0m\u001b[1;33m(\u001b[0m\u001b[1;34m\"Probabilidad=\"\u001b[0m\u001b[1;33m,\u001b[0m\u001b[0mN\u001b[0m\u001b[1;33m,\u001b[0m\u001b[1;34m\"->\"\u001b[0m\u001b[1;33m,\u001b[0m\u001b[1;33m(\u001b[0m\u001b[0mF\u001b[0m\u001b[1;33m/\u001b[0m\u001b[0mE\u001b[0m\u001b[1;33m)\u001b[0m\u001b[1;33m)\u001b[0m\u001b[1;33m\u001b[0m\u001b[0m\n",
      "\u001b[1;31mIndexError\u001b[0m: list index out of range"
     ]
    }
   ],
   "source": [
    "D=365\n",
    "E=32000\n",
    "X=[]\n",
    "J=[]\n",
    "AgujaBaldosa(D,E,X)"
   ]
  },
  {
   "cell_type": "markdown",
   "metadata": {},
   "source": [
    "# 1.7\n",
    "## Hallando el área (estimada) de 1/x"
   ]
  },
  {
   "cell_type": "markdown",
   "metadata": {},
   "source": [
    "$e\\cong A*\\frac{C}{N}$"
   ]
  },
  {
   "cell_type": "code",
   "execution_count": 193,
   "metadata": {},
   "outputs": [
    {
     "name": "stdout",
     "output_type": "stream",
     "text": [
      "Valor de e estimado = 6.258\n"
     ]
    }
   ],
   "source": [
    "N=1000\n",
    "C=0\n",
    "for i in range (1,N):\n",
    "    X=np.random.random()\n",
    "    if ((X<0.5) and (X>(1/30))):\n",
    "         C=C+1 \n",
    "print ('Valor de e estimado =', (14*(C/N)))  "
   ]
  },
  {
   "cell_type": "code",
   "execution_count": null,
   "metadata": {},
   "outputs": [],
   "source": []
  }
 ],
 "metadata": {
  "kernelspec": {
   "display_name": "Python 3",
   "language": "python",
   "name": "python3"
  },
  "language_info": {
   "codemirror_mode": {
    "name": "ipython",
    "version": 3
   },
   "file_extension": ".py",
   "mimetype": "text/x-python",
   "name": "python",
   "nbconvert_exporter": "python",
   "pygments_lexer": "ipython3",
   "version": "3.6.4"
  }
 },
 "nbformat": 4,
 "nbformat_minor": 2
}
