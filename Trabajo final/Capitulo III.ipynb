{
 "cells": [
  {
   "cell_type": "code",
   "execution_count": 19,
   "metadata": {},
   "outputs": [
    {
     "ename": "IndentationError",
     "evalue": "expected an indented block (<ipython-input-19-ea3d6235f440>, line 9)",
     "output_type": "error",
     "traceback": [
      "\u001b[1;36m  File \u001b[1;32m\"<ipython-input-19-ea3d6235f440>\"\u001b[1;36m, line \u001b[1;32m9\u001b[0m\n\u001b[1;33m    print 'M =' % M\u001b[0m\n\u001b[1;37m                   ^\u001b[0m\n\u001b[1;31mIndentationError\u001b[0m\u001b[1;31m:\u001b[0m expected an indented block\n"
     ]
    }
   ],
   "source": [
    "#Encontrar módulos primos pag 66\n",
    "\n",
    "import math\n",
    "\n",
    "for M in range (1220):\n",
    "    raizm = int (math.sqrt(M))\n",
    "for div in range (raizm):\n",
    "        if M % div:\n",
    "print 'M =' % M\n",
    "#aquí write 1, \"M=\", M\n",
    "for A = raizm in range (M/10):\n",
    "    H = 1, S = 1, X = S\n",
    "    X = A * X % M\n",
    "    if X = S\n",
    "    H = H + 1\n",
    "    if H = M - 1\n",
    "    str(A, M, H)\n",
    "next(A)\n",
    "break;\n",
    "\n",
    "    \n"
   ]
  },
  {
   "cell_type": "code",
   "execution_count": null,
   "metadata": {},
   "outputs": [],
   "source": []
  },
  {
   "cell_type": "code",
   "execution_count": null,
   "metadata": {},
   "outputs": [],
   "source": []
  }
 ],
 "metadata": {
  "kernelspec": {
   "display_name": "Python 3",
   "language": "python",
   "name": "python3"
  },
  "language_info": {
   "codemirror_mode": {
    "name": "ipython",
    "version": 3
   },
   "file_extension": ".py",
   "mimetype": "text/x-python",
   "name": "python",
   "nbconvert_exporter": "python",
   "pygments_lexer": "ipython3",
   "version": "3.6.4"
  }
 },
 "nbformat": 4,
 "nbformat_minor": 2
}
