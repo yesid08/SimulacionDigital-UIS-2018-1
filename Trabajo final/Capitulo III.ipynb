{
 "cells": [
  {
   "cell_type": "markdown",
   "metadata": {},
   "source": [
    "# Capitulo III\n",
    "##### ANÁLISIS ESTADÍSTICO DE LA UNIFORMIDAD DE LA MUESTRA NUMÉRICA ALEATORIA"
   ]
  },
  {
   "cell_type": "markdown",
   "metadata": {},
   "source": [
    "### 3.1.2 Programa para encontrar modulos primos, página 66"
   ]
  },
  {
   "cell_type": "code",
   "execution_count": 13,
   "metadata": {},
   "outputs": [],
   "source": [
    "import pandas as pd\n",
    "import numpy as np\n",
    "import math"
   ]
  },
  {
   "cell_type": "code",
   "execution_count": 14,
   "metadata": {
    "scrolled": true
   },
   "outputs": [
    {
     "data": {
      "text/html": [
       "<div>\n",
       "<style scoped>\n",
       "    .dataframe tbody tr th:only-of-type {\n",
       "        vertical-align: middle;\n",
       "    }\n",
       "\n",
       "    .dataframe tbody tr th {\n",
       "        vertical-align: top;\n",
       "    }\n",
       "\n",
       "    .dataframe thead th {\n",
       "        text-align: right;\n",
       "    }\n",
       "</style>\n",
       "<table border=\"1\" class=\"dataframe\">\n",
       "  <thead>\n",
       "    <tr style=\"text-align: right;\">\n",
       "      <th></th>\n",
       "      <th>A</th>\n",
       "      <th>M</th>\n",
       "      <th>H</th>\n",
       "    </tr>\n",
       "  </thead>\n",
       "  <tbody>\n",
       "    <tr>\n",
       "      <th>0</th>\n",
       "      <td>120</td>\n",
       "      <td>1219</td>\n",
       "      <td>1</td>\n",
       "    </tr>\n",
       "  </tbody>\n",
       "</table>\n",
       "</div>"
      ],
      "text/plain": [
       "     A     M  H\n",
       "0  120  1219  1"
      ]
     },
     "metadata": {},
     "output_type": "display_data"
    }
   ],
   "source": [
    "for M in range (1200, 1220):\n",
    "    RAIZM = int (math.sqrt(M))\n",
    "for DIV in range (2, RAIZM):\n",
    "    if (M % DIV in range (0, 1000)):\n",
    "        for A in range(RAIZM, int(M/10)):\n",
    "            H = 1; S = 1; X = S;\n",
    "            X = A * X % M\n",
    "            if X == S:\n",
    "                H = M - 1\n",
    "data = []\n",
    "data.append([A, M, H])\n",
    "tabla = pd.DataFrame(columns = [\"A\", \"M\", \"H\"], data = data)\n",
    "display(tabla)"
   ]
  },
  {
   "cell_type": "markdown",
   "metadata": {},
   "source": [
    "### 3.2 Análisis estadístico del promedio, página 69"
   ]
  },
  {
   "cell_type": "code",
   "execution_count": null,
   "metadata": {},
   "outputs": [],
   "source": [
    "N  = 1000\n",
    "for i in range (1, N):\n",
    "    x = random.seed(1)\n",
    "    T1 = T1 + X\n",
    "    T2 = T2 + (X^2)\n",
    "    MO = T1 / N\n",
    "    VO = (T2 - (T1^2)/N)/(N-1)\n",
    "    CHI = (((ME-MO)^(2/ME)) + ((VE - VO)^(2/VE)))\n",
    "print (\"CHI = \", CHI)"
   ]
  },
  {
   "cell_type": "markdown",
   "metadata": {},
   "source": [
    "### 3.3 Análisis estadístico de las frecuencias o ocurrencias, página 72"
   ]
  },
  {
   "cell_type": "markdown",
   "metadata": {},
   "source": [
    "## Programa para generar números aleatorios según la función de densidad \n",
    "$f(x)=(1/2)*(3-x)$\n",
    "+ Sí 1<x<3"
   ]
  },
  {
   "cell_type": "code",
   "execution_count": null,
   "metadata": {},
   "outputs": [],
   "source": [
    "N = 100000\n",
    "for i in range (1, N)"
   ]
  },
  {
   "cell_type": "code",
   "execution_count": null,
   "metadata": {},
   "outputs": [],
   "source": [
    "#Hallamos analíticamente la función acumulada de probabilidad\n",
    "def funcion():\n",
    "    ((-X^2) + 6 * X - 5)/4:\n",
    "x = 3 - 2 * math.sqrt(random())"
   ]
  },
  {
   "cell_type": "code",
   "execution_count": null,
   "metadata": {},
   "outputs": [],
   "source": [
    "# Hallamos a que intervalo J"
   ]
  }
 ],
 "metadata": {
  "kernelspec": {
   "display_name": "Python 3",
   "language": "python",
   "name": "python3"
  },
  "language_info": {
   "codemirror_mode": {
    "name": "ipython",
    "version": 3
   },
   "file_extension": ".py",
   "mimetype": "text/x-python",
   "name": "python",
   "nbconvert_exporter": "python",
   "pygments_lexer": "ipython3",
   "version": "3.6.4"
  }
 },
 "nbformat": 4,
 "nbformat_minor": 2
}
